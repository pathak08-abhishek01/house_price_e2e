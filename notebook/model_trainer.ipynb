{
 "cells": [
  {
   "cell_type": "code",
   "execution_count": 33,
   "metadata": {},
   "outputs": [],
   "source": [
    "import numpy as np\n",
    "import pandas as pd\n",
    "import warnings\n",
    "from sklearn.model_selection import train_test_split\n",
    "from sklearn.linear_model import LinearRegression, Ridge, Lasso\n",
    "from sklearn.neighbors import KNeighborsRegressor\n",
    "from sklearn.tree import DecisionTreeRegressor\n",
    "from sklearn.ensemble import RandomForestRegressor, AdaBoostRegressor\n",
    "from sklearn.svm import SVR\n",
    "from sklearn.metrics import r2_score, mean_squared_error, mean_absolute_error\n",
    "from sklearn.model_selection import GridSearchCV\n",
    "from catboost import CatBoostRegressor\n",
    "from xgboost import XGBRegressor\n",
    "from sklearn.preprocessing import StandardScaler, OneHotEncoder\n",
    "from sklearn.compose import ColumnTransformer\n"
   ]
  },
  {
   "cell_type": "code",
   "execution_count": 34,
   "metadata": {},
   "outputs": [],
   "source": [
    "# loading data from csv\n",
    "df = pd.read_csv('Housing.csv')"
   ]
  },
  {
   "cell_type": "code",
   "execution_count": 35,
   "metadata": {},
   "outputs": [
    {
     "data": {
      "text/html": [
       "<div>\n",
       "<style scoped>\n",
       "    .dataframe tbody tr th:only-of-type {\n",
       "        vertical-align: middle;\n",
       "    }\n",
       "\n",
       "    .dataframe tbody tr th {\n",
       "        vertical-align: top;\n",
       "    }\n",
       "\n",
       "    .dataframe thead th {\n",
       "        text-align: right;\n",
       "    }\n",
       "</style>\n",
       "<table border=\"1\" class=\"dataframe\">\n",
       "  <thead>\n",
       "    <tr style=\"text-align: right;\">\n",
       "      <th></th>\n",
       "      <th>price</th>\n",
       "      <th>area</th>\n",
       "      <th>bedrooms</th>\n",
       "      <th>bathrooms</th>\n",
       "      <th>stories</th>\n",
       "      <th>mainroad</th>\n",
       "      <th>guestroom</th>\n",
       "      <th>basement</th>\n",
       "      <th>hotwaterheating</th>\n",
       "      <th>airconditioning</th>\n",
       "      <th>parking</th>\n",
       "      <th>prefarea</th>\n",
       "      <th>furnishingstatus</th>\n",
       "    </tr>\n",
       "  </thead>\n",
       "  <tbody>\n",
       "    <tr>\n",
       "      <th>0</th>\n",
       "      <td>13300000</td>\n",
       "      <td>7420</td>\n",
       "      <td>4</td>\n",
       "      <td>2</td>\n",
       "      <td>3</td>\n",
       "      <td>yes</td>\n",
       "      <td>no</td>\n",
       "      <td>no</td>\n",
       "      <td>no</td>\n",
       "      <td>yes</td>\n",
       "      <td>2</td>\n",
       "      <td>yes</td>\n",
       "      <td>furnished</td>\n",
       "    </tr>\n",
       "    <tr>\n",
       "      <th>1</th>\n",
       "      <td>12250000</td>\n",
       "      <td>8960</td>\n",
       "      <td>4</td>\n",
       "      <td>4</td>\n",
       "      <td>4</td>\n",
       "      <td>yes</td>\n",
       "      <td>no</td>\n",
       "      <td>no</td>\n",
       "      <td>no</td>\n",
       "      <td>yes</td>\n",
       "      <td>3</td>\n",
       "      <td>no</td>\n",
       "      <td>furnished</td>\n",
       "    </tr>\n",
       "    <tr>\n",
       "      <th>2</th>\n",
       "      <td>12250000</td>\n",
       "      <td>9960</td>\n",
       "      <td>3</td>\n",
       "      <td>2</td>\n",
       "      <td>2</td>\n",
       "      <td>yes</td>\n",
       "      <td>no</td>\n",
       "      <td>yes</td>\n",
       "      <td>no</td>\n",
       "      <td>no</td>\n",
       "      <td>2</td>\n",
       "      <td>yes</td>\n",
       "      <td>semi-furnished</td>\n",
       "    </tr>\n",
       "    <tr>\n",
       "      <th>3</th>\n",
       "      <td>12215000</td>\n",
       "      <td>7500</td>\n",
       "      <td>4</td>\n",
       "      <td>2</td>\n",
       "      <td>2</td>\n",
       "      <td>yes</td>\n",
       "      <td>no</td>\n",
       "      <td>yes</td>\n",
       "      <td>no</td>\n",
       "      <td>yes</td>\n",
       "      <td>3</td>\n",
       "      <td>yes</td>\n",
       "      <td>furnished</td>\n",
       "    </tr>\n",
       "    <tr>\n",
       "      <th>4</th>\n",
       "      <td>11410000</td>\n",
       "      <td>7420</td>\n",
       "      <td>4</td>\n",
       "      <td>1</td>\n",
       "      <td>2</td>\n",
       "      <td>yes</td>\n",
       "      <td>yes</td>\n",
       "      <td>yes</td>\n",
       "      <td>no</td>\n",
       "      <td>yes</td>\n",
       "      <td>2</td>\n",
       "      <td>no</td>\n",
       "      <td>furnished</td>\n",
       "    </tr>\n",
       "  </tbody>\n",
       "</table>\n",
       "</div>"
      ],
      "text/plain": [
       "      price  area  bedrooms  bathrooms  stories mainroad guestroom basement  \\\n",
       "0  13300000  7420         4          2        3      yes        no       no   \n",
       "1  12250000  8960         4          4        4      yes        no       no   \n",
       "2  12250000  9960         3          2        2      yes        no      yes   \n",
       "3  12215000  7500         4          2        2      yes        no      yes   \n",
       "4  11410000  7420         4          1        2      yes       yes      yes   \n",
       "\n",
       "  hotwaterheating airconditioning  parking prefarea furnishingstatus  \n",
       "0              no             yes        2      yes        furnished  \n",
       "1              no             yes        3       no        furnished  \n",
       "2              no              no        2      yes   semi-furnished  \n",
       "3              no             yes        3      yes        furnished  \n",
       "4              no             yes        2       no        furnished  "
      ]
     },
     "execution_count": 35,
     "metadata": {},
     "output_type": "execute_result"
    }
   ],
   "source": [
    "# printing 5 rows\n",
    "df.head()"
   ]
  },
  {
   "cell_type": "code",
   "execution_count": 36,
   "metadata": {},
   "outputs": [],
   "source": [
    "# creating feature matrix and target vector\n",
    "X = df.drop('price', axis=1)\n",
    "Y = df['price']"
   ]
  },
  {
   "cell_type": "code",
   "execution_count": 37,
   "metadata": {},
   "outputs": [],
   "source": [
    "# creating numerical and categorical columns\n",
    "numerical_features = [features for features in X.columns if X[features].dtype!='O']\n",
    "categorical_features = [features for features in X.columns if X[features].dtype=='O']"
   ]
  },
  {
   "cell_type": "code",
   "execution_count": 40,
   "metadata": {},
   "outputs": [
    {
     "data": {
      "text/plain": [
       "['area', 'bedrooms', 'bathrooms', 'stories', 'parking']"
      ]
     },
     "execution_count": 40,
     "metadata": {},
     "output_type": "execute_result"
    }
   ],
   "source": [
    "numerical_features"
   ]
  },
  {
   "cell_type": "code",
   "execution_count": 38,
   "metadata": {},
   "outputs": [
    {
     "name": "stdout",
     "output_type": "stream",
     "text": [
      "mainroad has these values ['yes' 'no']\n",
      "guestroom has these values ['no' 'yes']\n",
      "basement has these values ['no' 'yes']\n",
      "hotwaterheating has these values ['no' 'yes']\n",
      "airconditioning has these values ['yes' 'no']\n",
      "prefarea has these values ['yes' 'no']\n",
      "furnishingstatus has these values ['furnished' 'semi-furnished' 'unfurnished']\n"
     ]
    }
   ],
   "source": [
    "def print_unique_categories(df):\n",
    "    for feature in categorical_features:\n",
    "        print(f\"{feature} has these values {df[feature].unique()}\")\n",
    "\n",
    "print_unique_categories(df)        "
   ]
  },
  {
   "cell_type": "code",
   "execution_count": 41,
   "metadata": {},
   "outputs": [
    {
     "data": {
      "text/plain": [
       "['mainroad',\n",
       " 'guestroom',\n",
       " 'basement',\n",
       " 'hotwaterheating',\n",
       " 'airconditioning',\n",
       " 'prefarea',\n",
       " 'furnishingstatus']"
      ]
     },
     "execution_count": 41,
     "metadata": {},
     "output_type": "execute_result"
    }
   ],
   "source": [
    "categorical_features"
   ]
  },
  {
   "cell_type": "code",
   "execution_count": 39,
   "metadata": {},
   "outputs": [],
   "source": [
    "# creating the data transformers\n",
    "\n",
    "numeric_scaler = StandardScaler()\n",
    "encoder = OneHotEncoder()\n",
    "\n",
    "preprocessor = ColumnTransformer(\n",
    "    [\n",
    "        (\"OneHotEncoder\", encoder, categorical_features),\n",
    "        (\"StandardScaler\", numeric_scaler, numerical_features),\n",
    "    ]\n",
    ")"
   ]
  },
  {
   "cell_type": "code",
   "execution_count": 19,
   "metadata": {},
   "outputs": [],
   "source": [
    "# Spliting the data into train and test\n",
    "X_train, X_test, Y_train, Y_test = train_test_split(X, Y, test_size=0.2, random_state=8)"
   ]
  },
  {
   "cell_type": "code",
   "execution_count": 20,
   "metadata": {},
   "outputs": [],
   "source": [
    "# Applying the preprocessor\n",
    "X_train = preprocessor.fit_transform(X_train)\n",
    "X_test = preprocessor.transform(X_test)\n"
   ]
  },
  {
   "cell_type": "code",
   "execution_count": 43,
   "metadata": {},
   "outputs": [
    {
     "data": {
      "text/plain": [
       "pandas.core.series.Series"
      ]
     },
     "execution_count": 43,
     "metadata": {},
     "output_type": "execute_result"
    }
   ],
   "source": [
    "type(Y_test)"
   ]
  },
  {
   "cell_type": "code",
   "execution_count": 21,
   "metadata": {},
   "outputs": [
    {
     "data": {
      "text/plain": [
       "((436, 20), (109, 20))"
      ]
     },
     "execution_count": 21,
     "metadata": {},
     "output_type": "execute_result"
    }
   ],
   "source": [
    "# shape of  X_train and X_test\n",
    "X_train.shape, X_test.shape"
   ]
  },
  {
   "cell_type": "code",
   "execution_count": 22,
   "metadata": {},
   "outputs": [],
   "source": [
    "# creating the evaluation metrics\n",
    "def evaluate_model(true, predicted):\n",
    "    mae = mean_absolute_error(true, predicted)\n",
    "    mse = mean_squared_error(true, predicted)\n",
    "    rmse = np.round(np.sqrt(mean_squared_error(true, predicted)), 2)\n",
    "    r2_square = r2_score(true, predicted)\n",
    "    return mae, rmse, r2_square"
   ]
  },
  {
   "cell_type": "code",
   "execution_count": 44,
   "metadata": {},
   "outputs": [
    {
     "name": "stdout",
     "output_type": "stream",
     "text": [
      "LinearRegression() Training Performance\n",
      "RMSE: 1050423.55\n",
      "MAE: 792696.256880734\n",
      "R2 score 0.675635303803966\n",
      "Model Testing Performance\n",
      "RMSE: 1125627.08\n",
      "MAE: 783373.4311926606\n",
      "R2 score 0.669900102299245\n",
      "##################################################\n",
      "\n",
      "\n",
      "Lasso() Training Performance\n",
      "RMSE: 1044328.99\n",
      "MAE: 787614.6302454305\n",
      "R2 score 0.6793883134225902\n",
      "Model Testing Performance\n",
      "RMSE: 1125348.1\n",
      "MAE: 769038.9090689028\n",
      "R2 score 0.670063706326443\n",
      "##################################################\n",
      "\n",
      "\n",
      "Ridge() Training Performance\n",
      "RMSE: 1044360.62\n",
      "MAE: 787447.7948986582\n",
      "R2 score 0.6793688950180845\n",
      "Model Testing Performance\n",
      "RMSE: 1122945.19\n",
      "MAE: 766580.029064419\n",
      "R2 score 0.671471201608598\n",
      "##################################################\n",
      "\n",
      "\n",
      "KNeighborsRegressor() Training Performance\n",
      "RMSE: 997760.61\n",
      "MAE: 694501.756880734\n",
      "R2 score 0.7073440318361278\n",
      "Model Testing Performance\n",
      "RMSE: 1105909.01\n",
      "MAE: 753629.6330275229\n",
      "R2 score 0.6813637953340408\n",
      "##################################################\n",
      "\n",
      "\n",
      "DecisionTreeRegressor() Training Performance\n",
      "RMSE: 46261.79\n",
      "MAE: 3307.3394495412845\n",
      "R2 score 0.9993708566126602\n",
      "Model Testing Performance\n",
      "RMSE: 1713911.66\n",
      "MAE: 1170511.1009174313\n",
      "R2 score 0.23469739221527186\n",
      "##################################################\n",
      "\n",
      "\n",
      "RandomForestRegressor() Training Performance\n",
      "RMSE: 445280.52\n",
      "MAE: 312795.5153669724\n",
      "R2 score 0.9417129513329027\n",
      "Model Testing Performance\n",
      "RMSE: 1147408.94\n",
      "MAE: 783954.4700305809\n",
      "R2 score 0.6570010540679261\n",
      "##################################################\n",
      "\n",
      "\n",
      "AdaBoostRegressor() Training Performance\n",
      "RMSE: 1010957.02\n",
      "MAE: 831256.1340060505\n",
      "R2 score 0.6995514817452737\n",
      "Model Testing Performance\n",
      "RMSE: 1164783.34\n",
      "MAE: 865367.5926180398\n",
      "R2 score 0.6465348290838964\n",
      "##################################################\n",
      "\n",
      "\n",
      "XGBRegressor(base_score=None, booster=None, callbacks=None,\n",
      "             colsample_bylevel=None, colsample_bynode=None,\n",
      "             colsample_bytree=None, device=None, early_stopping_rounds=None,\n",
      "             enable_categorical=False, eval_metric=None, feature_types=None,\n",
      "             gamma=None, grow_policy=None, importance_type=None,\n",
      "             interaction_constraints=None, learning_rate=None, max_bin=None,\n",
      "             max_cat_threshold=None, max_cat_to_onehot=None,\n",
      "             max_delta_step=None, max_depth=None, max_leaves=None,\n",
      "             min_child_weight=None, missing=nan, monotone_constraints=None,\n",
      "             multi_strategy=None, n_estimators=None, n_jobs=None,\n",
      "             num_parallel_tree=None, random_state=None, ...) Training Performance\n",
      "RMSE: 98249.18\n",
      "MAE: 59922.46416284404\n",
      "R2 score 0.9971623257801492\n",
      "Model Testing Performance\n",
      "RMSE: 1186267.01\n",
      "MAE: 883541.0412844036\n",
      "R2 score 0.6333757139667326\n",
      "##################################################\n",
      "\n",
      "\n",
      "<catboost.core.CatBoostRegressor object at 0x16a966890> Training Performance\n",
      "RMSE: 404982.34\n",
      "MAE: 306331.8256984977\n",
      "R2 score 0.9517855897230467\n",
      "Model Testing Performance\n",
      "RMSE: 1008144.58\n",
      "MAE: 722382.1396022813\n",
      "R2 score 0.7352097642710412\n",
      "##################################################\n",
      "\n",
      "\n"
     ]
    }
   ],
   "source": [
    "# list of models\n",
    "\n",
    "models = {\n",
    "    \"LinearRegression\" : LinearRegression(),\n",
    "    \"Lasso\" : Lasso(),\n",
    "    \"Ridge\" : Ridge(),\n",
    "    \"K-Neighbors Regressor\" : KNeighborsRegressor(),\n",
    "    \"DecisionTreeRegressor\" : DecisionTreeRegressor(),\n",
    "    \"RandomForestRegressor\" : RandomForestRegressor(),\n",
    "    \"AdaBoostRegressor\" : AdaBoostRegressor(),\n",
    "    \"XGBRegressor\" : XGBRegressor(),\n",
    "    \"CatBoosting Regressor\" : CatBoostRegressor(verbose=False),\n",
    "}\n",
    "\n",
    "model_name_performance = {\n",
    "    \n",
    "}\n",
    "\n",
    "for key, value in models.items():\n",
    "    model = value\n",
    "    model.fit(X_train, Y_train)\n",
    "    Y_train_pred = model.predict(X_train)\n",
    "    Y_test_pred = model.predict(X_test)\n",
    "    # training performance\n",
    "    mae_train, rmse_train, r2_square_train = evaluate_model(Y_train, Y_train_pred)\n",
    "\n",
    "    print(f\"{model} Training Performance\")\n",
    "    print(\"RMSE:\", rmse_train)\n",
    "    print(\"MAE:\", mae_train)\n",
    "    print(\"R2 score\", r2_square_train)\n",
    "    \n",
    "    # testing performance\n",
    "    mae_test, rmse_test, r2_square_test = evaluate_model(Y_test, Y_test_pred)\n",
    "\n",
    "    print(\"Model Testing Performance\")\n",
    "    print(\"RMSE:\", rmse_test)\n",
    "    print(\"MAE:\", mae_test)\n",
    "    print(\"R2 score\", r2_square_test)\n",
    "\n",
    "    print(\"#\"*50)\n",
    "    print(\"\\n\")\n",
    "\n",
    "    model_name_performance[key] = r2_square_test"
   ]
  },
  {
   "cell_type": "code",
   "execution_count": 24,
   "metadata": {},
   "outputs": [],
   "source": [
    "# sorting the dict with r2 score and get the name of the model with highest r2 score\n",
    "sorted_model_performance = sorted(model_name_performance.items(), key=lambda x: x[1], reverse=True)\n",
    "highest_r2_model = sorted_model_performance[0][0]"
   ]
  },
  {
   "cell_type": "code",
   "execution_count": 25,
   "metadata": {},
   "outputs": [
    {
     "data": {
      "text/plain": [
       "'CatBoosting Regressor'"
      ]
     },
     "execution_count": 25,
     "metadata": {},
     "output_type": "execute_result"
    }
   ],
   "source": [
    "highest_r2_model"
   ]
  },
  {
   "cell_type": "code",
   "execution_count": 31,
   "metadata": {},
   "outputs": [
    {
     "name": "stdout",
     "output_type": "stream",
     "text": [
      "0.7352097642710412\n"
     ]
    }
   ],
   "source": [
    "print(model_name_performance[highest_r2_model])"
   ]
  },
  {
   "cell_type": "code",
   "execution_count": 27,
   "metadata": {},
   "outputs": [],
   "source": [
    "# Defining the hyperparameters\n",
    "params={\n",
    "                \"Decision Tree\": {\n",
    "                    'criterion':['squared_error', 'friedman_mse', 'absolute_error', 'poisson'],\n",
    "                    # 'splitter':['best','random'],\n",
    "                    # 'max_features':['sqrt','log2'],\n",
    "                },\n",
    "                \"Random Forest\":{\n",
    "                    # 'criterion':['squared_error', 'friedman_mse', 'absolute_error', 'poisson'],\n",
    "                 \n",
    "                    # 'max_features':['sqrt','log2',None],\n",
    "                    'n_estimators': [8,16,32,64,128,256]\n",
    "                },\n",
    "                \"Gradient Boosting\":{\n",
    "                    # 'loss':['squared_error', 'huber', 'absolute_error', 'quantile'],\n",
    "                    'learning_rate':[.1,.01,.05,.001],\n",
    "                    'subsample':[0.6,0.7,0.75,0.8,0.85,0.9],\n",
    "                    # 'criterion':['squared_error', 'friedman_mse'],\n",
    "                    # 'max_features':['auto','sqrt','log2'],\n",
    "                    'n_estimators': [8,16,32,64,128,256]\n",
    "                },\n",
    "                \"Linear Regression\":{},\n",
    "                \"XGBRegressor\":{\n",
    "                    'learning_rate':[.1,.01,.05,.001],\n",
    "                    'n_estimators': [8,16,32,64,128,256]\n",
    "                },\n",
    "                \"CatBoosting Regressor\":{\n",
    "                    'depth': [6,8,10],\n",
    "                    'learning_rate': [0.01, 0.05, 0.1],\n",
    "                    'iterations': [30, 50, 100]\n",
    "                },\n",
    "                \"AdaBoost Regressor\":{\n",
    "                    'learning_rate':[.1,.01,0.5,.001],\n",
    "                    # 'loss':['linear','square','exponential'],\n",
    "                    'n_estimators': [8,16,32,64,128,256]\n",
    "                }\n",
    "}"
   ]
  },
  {
   "cell_type": "code",
   "execution_count": 28,
   "metadata": {},
   "outputs": [
    {
     "name": "stdout",
     "output_type": "stream",
     "text": [
      "{'depth': [6, 8, 10], 'learning_rate': [0.01, 0.05, 0.1], 'iterations': [30, 50, 100]}\n"
     ]
    }
   ],
   "source": [
    "# hyperparameter tuning\n",
    "\n",
    "model_parameters = params[highest_r2_model]\n",
    "print(model_parameters)"
   ]
  },
  {
   "cell_type": "code",
   "execution_count": 30,
   "metadata": {},
   "outputs": [
    {
     "name": "stdout",
     "output_type": "stream",
     "text": [
      "<catboost.core.CatBoostRegressor object at 0x16a8331c0> Training Performance\n",
      "RMSE: 404982.34\n",
      "MAE: 306331.8256984977\n",
      "R2 score 0.9517855897230467\n",
      "<catboost.core.CatBoostRegressor object at 0x16a8331c0> Testing Performance\n",
      "RMSE: 1008144.58\n",
      "MAE: 722382.1396022813\n",
      "R2 score 0.7352097642710412\n",
      "{'depth': 6, 'iterations': 100, 'learning_rate': 0.1}\n"
     ]
    }
   ],
   "source": [
    "# creating the grid search\n",
    "model = models[highest_r2_model]\n",
    "grid_search = GridSearchCV(model, model_parameters, cv=5, n_jobs=-1)\n",
    "grid_search.fit(X_train, Y_train)\n",
    "\n",
    "# print the training performance\n",
    "y_train_pred = grid_search.predict(X_train)\n",
    "\n",
    "mae_train, rmse_train, r2_square_train = evaluate_model(Y_train, Y_train_pred)\n",
    "\n",
    "print(f\"{model} Training Performance\")\n",
    "print(\"RMSE:\", rmse_train)\n",
    "print(\"MAE:\", mae_train)\n",
    "print(\"R2 score\", r2_square_train)\n",
    "\n",
    "# print the testing performance\n",
    "y_test_pred = grid_search.predict(X_test)\n",
    "\n",
    "mae_test, rmse_test, r2_square_test = evaluate_model(Y_test, Y_test_pred)\n",
    "\n",
    "print(f\"{model} Testing Performance\")\n",
    "print(\"RMSE:\", rmse_test)\n",
    "print(\"MAE:\", mae_test)\n",
    "print(\"R2 score\", r2_square_test)\n",
    "\n",
    "\n",
    "\n",
    "# best parameters\n",
    "best_params = grid_search.best_params_\n",
    "print(best_params)\n"
   ]
  },
  {
   "cell_type": "code",
   "execution_count": 32,
   "metadata": {},
   "outputs": [
    {
     "data": {
      "text/plain": [
       "<catboost.core.CatBoostRegressor at 0x16a824af0>"
      ]
     },
     "execution_count": 32,
     "metadata": {},
     "output_type": "execute_result"
    }
   ],
   "source": [
    "# training the final model with the best params\n",
    "final_model = grid_search.best_estimator_\n",
    "final_model.fit(X_train, Y_train)"
   ]
  }
 ],
 "metadata": {
  "kernelspec": {
   "display_name": "Python 3",
   "language": "python",
   "name": "python3"
  },
  "language_info": {
   "codemirror_mode": {
    "name": "ipython",
    "version": 3
   },
   "file_extension": ".py",
   "mimetype": "text/x-python",
   "name": "python",
   "nbconvert_exporter": "python",
   "pygments_lexer": "ipython3",
   "version": "3.10.12"
  }
 },
 "nbformat": 4,
 "nbformat_minor": 2
}
